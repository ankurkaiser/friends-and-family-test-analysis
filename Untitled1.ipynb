{
 "cells": [
  {
   "cell_type": "code",
   "execution_count": 1,
   "id": "8da564e5",
   "metadata": {},
   "outputs": [
    {
     "ename": "ModuleNotFoundError",
     "evalue": "No module named 'autonote'",
     "output_type": "error",
     "traceback": [
      "\u001b[0;31m---------------------------------------------------------------------------\u001b[0m",
      "\u001b[0;31mModuleNotFoundError\u001b[0m                       Traceback (most recent call last)",
      "Cell \u001b[0;32mIn[1], line 1\u001b[0m\n\u001b[0;32m----> 1\u001b[0m \u001b[38;5;28;01mfrom\u001b[39;00m \u001b[38;5;21;01mautonote\u001b[39;00m \u001b[38;5;28;01mimport\u001b[39;00m AutoNote\n\u001b[1;32m      2\u001b[0m an \u001b[38;5;241m=\u001b[39m AutoNote()\n",
      "\u001b[0;31mModuleNotFoundError\u001b[0m: No module named 'autonote'"
     ]
    }
   ],
   "source": [
    "from autonote import AutoNote\n",
    "an = AutoNote()"
   ]
  },
  {
   "cell_type": "code",
   "execution_count": null,
   "id": "30ff1cf0",
   "metadata": {},
   "outputs": [],
   "source": [
    "!pip install git+git@github.com:janduplessis883/hand883.git"
   ]
  },
  {
   "cell_type": "code",
   "execution_count": null,
   "id": "43ad01bf",
   "metadata": {},
   "outputs": [],
   "source": []
  }
 ],
 "metadata": {
  "hide_input": false,
  "kernelspec": {
   "display_name": "Python 3 (ipykernel)",
   "language": "python",
   "name": "python3"
  },
  "language_info": {
   "codemirror_mode": {
    "name": "ipython",
    "version": 3
   },
   "file_extension": ".py",
   "mimetype": "text/x-python",
   "name": "python",
   "nbconvert_exporter": "python",
   "pygments_lexer": "ipython3",
   "version": "3.10.6"
  },
  "toc": {
   "base_numbering": 1,
   "nav_menu": {},
   "number_sections": true,
   "sideBar": true,
   "skip_h1_title": false,
   "title_cell": "Table of Contents",
   "title_sidebar": "Contents",
   "toc_cell": false,
   "toc_position": {},
   "toc_section_display": true,
   "toc_window_display": false
  }
 },
 "nbformat": 4,
 "nbformat_minor": 5
}
