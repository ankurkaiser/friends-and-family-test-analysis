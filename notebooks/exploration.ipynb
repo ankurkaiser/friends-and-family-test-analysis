{
 "cells": [
  {
   "cell_type": "markdown",
   "id": "b50f3a43",
   "metadata": {},
   "source": [
    "![Static Badge](https://img.shields.io/badge/GitHub-janduplessis883-%23aabd3b)  ![Static Badge](https://img.shields.io/badge/Python-3.10.6-%23ae4f4d) ![Static Badge](https://img.shields.io/badge/Telegram-%40jdp145-%2354a7e5?logo=telegram)"
   ]
  },
  {
   "cell_type": "code",
   "execution_count": 1,
   "id": "f35329db",
   "metadata": {},
   "outputs": [],
   "source": [
    "from friendsfamilytest.params import *\n",
    "from friendsfamilytest.sheethelper import *\n",
    "from friendsfamilytest.data import *\n",
    "from friendsfamilytest.utils import *\n",
    "\n",
    "import pandas as pd \n",
    "import seaborn as sns\n",
    "\n",
    "from wordcloud import WordCloud\n",
    "%load_ext autoreload\n",
    "%autoreload 2\n",
    "%config InlineBackend.figure_formats='retina'"
   ]
  },
  {
   "cell_type": "code",
   "execution_count": 2,
   "id": "789d1c83",
   "metadata": {},
   "outputs": [
    {
     "name": "stdout",
     "output_type": "stream",
     "text": [
      "[🏁] FUCTION: load_google_sheet()\n",
      "[✔️] Completed: load_google_sheet() - Time taken: 2.65 seconds\n"
     ]
    }
   ],
   "source": [
    "data = load_google_sheet()"
   ]
  },
  {
   "cell_type": "code",
   "execution_count": 3,
   "id": "2201ebd6",
   "metadata": {},
   "outputs": [
    {
     "data": {
      "text/html": [
       "<div>\n",
       "<style scoped>\n",
       "    .dataframe tbody tr th:only-of-type {\n",
       "        vertical-align: middle;\n",
       "    }\n",
       "\n",
       "    .dataframe tbody tr th {\n",
       "        vertical-align: top;\n",
       "    }\n",
       "\n",
       "    .dataframe thead th {\n",
       "        text-align: right;\n",
       "    }\n",
       "</style>\n",
       "<table border=\"1\" class=\"dataframe\">\n",
       "  <thead>\n",
       "    <tr style=\"text-align: right;\">\n",
       "      <th></th>\n",
       "      <th>time</th>\n",
       "      <th>rating</th>\n",
       "      <th>free_text</th>\n",
       "      <th>do_better</th>\n",
       "      <th>surgery</th>\n",
       "    </tr>\n",
       "  </thead>\n",
       "  <tbody>\n",
       "    <tr>\n",
       "      <th>0</th>\n",
       "      <td>2023-07-13 15:28:22</td>\n",
       "      <td>Extremely likely</td>\n",
       "      <td>Very friendly caring staff, treated me with re...</td>\n",
       "      <td>Keep it up</td>\n",
       "      <td>Earls Court Surgery</td>\n",
       "    </tr>\n",
       "    <tr>\n",
       "      <th>1</th>\n",
       "      <td>2023-07-13 15:29:16</td>\n",
       "      <td>Extremely likely</td>\n",
       "      <td>so good so confidential</td>\n",
       "      <td></td>\n",
       "      <td>Earls Court Surgery</td>\n",
       "    </tr>\n",
       "    <tr>\n",
       "      <th>2</th>\n",
       "      <td>2023-07-13 15:29:21</td>\n",
       "      <td>Extremely likely</td>\n",
       "      <td>The doctor was very understanding and very kno...</td>\n",
       "      <td>No. It was the best.</td>\n",
       "      <td>Earls Court Surgery</td>\n",
       "    </tr>\n",
       "    <tr>\n",
       "      <th>3</th>\n",
       "      <td>2023-07-13 15:30:10</td>\n",
       "      <td>Extremely likely</td>\n",
       "      <td>Dr E was extremely nice</td>\n",
       "      <td>the receptionist was very unkind</td>\n",
       "      <td>Earls Court Surgery</td>\n",
       "    </tr>\n",
       "    <tr>\n",
       "      <th>4</th>\n",
       "      <td>2023-07-13 15:31:48</td>\n",
       "      <td>Extremely likely</td>\n",
       "      <td>I was spoken to politely on the phone and a te...</td>\n",
       "      <td>No. I was happy with everything.</td>\n",
       "      <td>Earls Court Surgery</td>\n",
       "    </tr>\n",
       "  </tbody>\n",
       "</table>\n",
       "</div>"
      ],
      "text/plain": [
       "                 time            rating  \\\n",
       "0 2023-07-13 15:28:22  Extremely likely   \n",
       "1 2023-07-13 15:29:16  Extremely likely   \n",
       "2 2023-07-13 15:29:21  Extremely likely   \n",
       "3 2023-07-13 15:30:10  Extremely likely   \n",
       "4 2023-07-13 15:31:48  Extremely likely   \n",
       "\n",
       "                                           free_text  \\\n",
       "0  Very friendly caring staff, treated me with re...   \n",
       "1                            so good so confidential   \n",
       "2  The doctor was very understanding and very kno...   \n",
       "3                           Dr E was extremely nice    \n",
       "4  I was spoken to politely on the phone and a te...   \n",
       "\n",
       "                            do_better              surgery  \n",
       "0                          Keep it up  Earls Court Surgery  \n",
       "1                                      Earls Court Surgery  \n",
       "2                No. It was the best.  Earls Court Surgery  \n",
       "3   the receptionist was very unkind   Earls Court Surgery  \n",
       "4  No. I was happy with everything.    Earls Court Surgery  "
      ]
     },
     "execution_count": 3,
     "metadata": {},
     "output_type": "execute_result"
    }
   ],
   "source": [
    "data.head()"
   ]
  },
  {
   "cell_type": "code",
   "execution_count": 4,
   "id": "bc6d5aa4",
   "metadata": {},
   "outputs": [],
   "source": [
    "data['free_text_len'] = data['free_text'].str.split().apply(len)\n",
    "data['do_better_len'] = data['do_better'].str.split().apply(len)"
   ]
  },
  {
   "cell_type": "code",
   "execution_count": 5,
   "id": "d5311ce4",
   "metadata": {},
   "outputs": [
    {
     "data": {
      "text/html": [
       "<div>\n",
       "<style scoped>\n",
       "    .dataframe tbody tr th:only-of-type {\n",
       "        vertical-align: middle;\n",
       "    }\n",
       "\n",
       "    .dataframe tbody tr th {\n",
       "        vertical-align: top;\n",
       "    }\n",
       "\n",
       "    .dataframe thead th {\n",
       "        text-align: right;\n",
       "    }\n",
       "</style>\n",
       "<table border=\"1\" class=\"dataframe\">\n",
       "  <thead>\n",
       "    <tr style=\"text-align: right;\">\n",
       "      <th></th>\n",
       "      <th>time</th>\n",
       "      <th>rating</th>\n",
       "      <th>free_text</th>\n",
       "      <th>do_better</th>\n",
       "      <th>surgery</th>\n",
       "      <th>free_text_len</th>\n",
       "      <th>do_better_len</th>\n",
       "    </tr>\n",
       "  </thead>\n",
       "  <tbody>\n",
       "    <tr>\n",
       "      <th>0</th>\n",
       "      <td>2023-07-13 15:28:22</td>\n",
       "      <td>Extremely likely</td>\n",
       "      <td>Very friendly caring staff, treated me with re...</td>\n",
       "      <td>Keep it up</td>\n",
       "      <td>Earls Court Surgery</td>\n",
       "      <td>13</td>\n",
       "      <td>3</td>\n",
       "    </tr>\n",
       "    <tr>\n",
       "      <th>1</th>\n",
       "      <td>2023-07-13 15:29:16</td>\n",
       "      <td>Extremely likely</td>\n",
       "      <td>so good so confidential</td>\n",
       "      <td></td>\n",
       "      <td>Earls Court Surgery</td>\n",
       "      <td>4</td>\n",
       "      <td>0</td>\n",
       "    </tr>\n",
       "    <tr>\n",
       "      <th>2</th>\n",
       "      <td>2023-07-13 15:29:21</td>\n",
       "      <td>Extremely likely</td>\n",
       "      <td>The doctor was very understanding and very kno...</td>\n",
       "      <td>No. It was the best.</td>\n",
       "      <td>Earls Court Surgery</td>\n",
       "      <td>8</td>\n",
       "      <td>5</td>\n",
       "    </tr>\n",
       "    <tr>\n",
       "      <th>3</th>\n",
       "      <td>2023-07-13 15:30:10</td>\n",
       "      <td>Extremely likely</td>\n",
       "      <td>Dr E was extremely nice</td>\n",
       "      <td>the receptionist was very unkind</td>\n",
       "      <td>Earls Court Surgery</td>\n",
       "      <td>5</td>\n",
       "      <td>5</td>\n",
       "    </tr>\n",
       "    <tr>\n",
       "      <th>4</th>\n",
       "      <td>2023-07-13 15:31:48</td>\n",
       "      <td>Extremely likely</td>\n",
       "      <td>I was spoken to politely on the phone and a te...</td>\n",
       "      <td>No. I was happy with everything.</td>\n",
       "      <td>Earls Court Surgery</td>\n",
       "      <td>44</td>\n",
       "      <td>6</td>\n",
       "    </tr>\n",
       "  </tbody>\n",
       "</table>\n",
       "</div>"
      ],
      "text/plain": [
       "                 time            rating  \\\n",
       "0 2023-07-13 15:28:22  Extremely likely   \n",
       "1 2023-07-13 15:29:16  Extremely likely   \n",
       "2 2023-07-13 15:29:21  Extremely likely   \n",
       "3 2023-07-13 15:30:10  Extremely likely   \n",
       "4 2023-07-13 15:31:48  Extremely likely   \n",
       "\n",
       "                                           free_text  \\\n",
       "0  Very friendly caring staff, treated me with re...   \n",
       "1                            so good so confidential   \n",
       "2  The doctor was very understanding and very kno...   \n",
       "3                           Dr E was extremely nice    \n",
       "4  I was spoken to politely on the phone and a te...   \n",
       "\n",
       "                            do_better              surgery  free_text_len  \\\n",
       "0                          Keep it up  Earls Court Surgery             13   \n",
       "1                                      Earls Court Surgery              4   \n",
       "2                No. It was the best.  Earls Court Surgery              8   \n",
       "3   the receptionist was very unkind   Earls Court Surgery              5   \n",
       "4  No. I was happy with everything.    Earls Court Surgery             44   \n",
       "\n",
       "   do_better_len  \n",
       "0              3  \n",
       "1              0  \n",
       "2              5  \n",
       "3              5  \n",
       "4              6  "
      ]
     },
     "execution_count": 5,
     "metadata": {},
     "output_type": "execute_result"
    }
   ],
   "source": [
    "data.head()"
   ]
  },
  {
   "cell_type": "code",
   "execution_count": null,
   "id": "8462738b",
   "metadata": {},
   "outputs": [],
   "source": [
    "import seaborn as sns\n",
    "sns.histplot(data=data, x='free_text_len')"
   ]
  },
  {
   "cell_type": "code",
   "execution_count": null,
   "id": "b5f1f953",
   "metadata": {},
   "outputs": [],
   "source": [
    "sns.histplot(data=data, x='do_better_len')"
   ]
  },
  {
   "cell_type": "code",
   "execution_count": null,
   "id": "f7a9e069",
   "metadata": {},
   "outputs": [],
   "source": [
    "remove_list = []\n",
    "for text in data['do_better']:\n",
    "    if text == '':\n",
    "        pass\n",
    "    elif len(text) < 12 and len(text) > 1:\n",
    "        remove_list.append(text)\n",
    "        \n",
    "print(remove_list)"
   ]
  },
  {
   "cell_type": "code",
   "execution_count": null,
   "id": "f2c359bd",
   "metadata": {},
   "outputs": [],
   "source": [
    "data.isna().sum()"
   ]
  },
  {
   "cell_type": "code",
   "execution_count": null,
   "id": "9d4cdf74",
   "metadata": {},
   "outputs": [],
   "source": [
    "patient_feedback_categories = [\n",
    "    \"Appointment Availability\",\n",
    "    \"Reception and Administration\",\n",
    "    \"Consultation Quality\",\n",
    "    \"Treatment Efficacy\",\n",
    "    \"Facility Cleanliness and Comfort\",\n",
    "    \"Communication and Information\",\n",
    "    \"Wait Times\",\n",
    "    \"Confidentiality and Privacy\",\n",
    "    \"Telehealth Services\",\n",
    "    \"Follow-up Care\",\n",
    "    \"Billing and Insurance Handling\",\n",
    "    \"COVID-19 Measures\",\n",
    "    \"Patient Empowerment\",\n",
    "    \"Accessibility\",\n",
    "    \"Overall Satisfaction\",\n",
    "    \"No Improvement Suggestion\",\n",
    "]\n"
   ]
  },
  {
   "cell_type": "code",
   "execution_count": null,
   "id": "7a68a128",
   "metadata": {},
   "outputs": [],
   "source": [
    "from transformers import pipeline\n",
    "classifier = pipeline(\"zero-shot-classification\",\n",
    "                      model=\"facebook/bart-large-mnli\") "
   ]
  },
  {
   "cell_type": "code",
   "execution_count": null,
   "id": "861ae55e",
   "metadata": {
    "scrolled": true
   },
   "outputs": [],
   "source": [
    "text_list = []\n",
    "label_list = []\n",
    "count = 0\n",
    "for text in data['do_better']:\n",
    "    count = count + 1\n",
    "    if text != '':\n",
    "        output = classifier(text, patient_feedback_categories)\n",
    "        text_list.append(text)\n",
    "        label_list.append(output['labels'][0])\n",
    "        print(count)\n",
    "        count = count + 1\n",
    "    else:\n",
    "        print(\"Empty input string\")\n",
    "        count = count +1\n",
    "\n"
   ]
  },
  {
   "cell_type": "code",
   "execution_count": null,
   "id": "b9dbb7df",
   "metadata": {},
   "outputs": [],
   "source": [
    "text_list"
   ]
  },
  {
   "cell_type": "code",
   "execution_count": null,
   "id": "69dfc83b",
   "metadata": {},
   "outputs": [],
   "source": [
    "my_dict = {\n",
    "    \"text\": text_list,\n",
    "    \"labels\": label_list\n",
    "}\n",
    "\n",
    "label_df = pd.DataFrame(my_dict)\n",
    "label_df"
   ]
  },
  {
   "cell_type": "code",
   "execution_count": null,
   "id": "8cd73b6c",
   "metadata": {},
   "outputs": [],
   "source": [
    "sns.countplot(label_df['labels'])"
   ]
  },
  {
   "cell_type": "code",
   "execution_count": null,
   "id": "523dbefa",
   "metadata": {},
   "outputs": [],
   "source": [
    "processed = pd.read_csv('../friendsfamilytest/data/data.csv')"
   ]
  },
  {
   "cell_type": "code",
   "execution_count": null,
   "id": "037c2389",
   "metadata": {},
   "outputs": [],
   "source": [
    "data = pd.read_csv('../friendsfamilytest/data/data.csv')"
   ]
  },
  {
   "cell_type": "code",
   "execution_count": null,
   "id": "27c8b839",
   "metadata": {},
   "outputs": [],
   "source": [
    "data.head()"
   ]
  },
  {
   "cell_type": "code",
   "execution_count": null,
   "id": "f7c786cc",
   "metadata": {},
   "outputs": [],
   "source": [
    "data.info()"
   ]
  },
  {
   "cell_type": "code",
   "execution_count": null,
   "id": "b95e44a3",
   "metadata": {},
   "outputs": [],
   "source": [
    "data['time'] = pd.to_datetime(data['time'], format='%d/%m/%Y %H:%M')"
   ]
  },
  {
   "cell_type": "code",
   "execution_count": null,
   "id": "f599e3a9",
   "metadata": {},
   "outputs": [],
   "source": [
    "start_time = data['time'].dt.date.min()"
   ]
  },
  {
   "cell_type": "code",
   "execution_count": null,
   "id": "9fade826",
   "metadata": {},
   "outputs": [],
   "source": [
    "print(start_time)"
   ]
  },
  {
   "cell_type": "code",
   "execution_count": null,
   "id": "0de71aa6",
   "metadata": {},
   "outputs": [],
   "source": []
  }
 ],
 "metadata": {
  "hide_input": false,
  "kernelspec": {
   "display_name": "Python 3 (ipykernel)",
   "language": "python",
   "name": "python3"
  },
  "language_info": {
   "codemirror_mode": {
    "name": "ipython",
    "version": 3
   },
   "file_extension": ".py",
   "mimetype": "text/x-python",
   "name": "python",
   "nbconvert_exporter": "python",
   "pygments_lexer": "ipython3",
   "version": "3.10.6"
  },
  "toc": {
   "base_numbering": 1,
   "nav_menu": {},
   "number_sections": true,
   "sideBar": true,
   "skip_h1_title": false,
   "title_cell": "Table of Contents",
   "title_sidebar": "Contents",
   "toc_cell": false,
   "toc_position": {},
   "toc_section_display": true,
   "toc_window_display": false
  }
 },
 "nbformat": 4,
 "nbformat_minor": 5
}
