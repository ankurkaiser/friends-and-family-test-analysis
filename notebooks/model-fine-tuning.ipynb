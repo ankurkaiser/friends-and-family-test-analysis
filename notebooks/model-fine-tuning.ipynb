{
 "cells": [
  {
   "cell_type": "markdown",
   "id": "96b92a4b",
   "metadata": {},
   "source": [
    "# Fine-tuning"
   ]
  },
  {
   "cell_type": "markdown",
   "id": "a5d557e2",
   "metadata": {},
   "source": [
    "Now that you've seen the power of Transformers models in many different forms, we're going to dig deeper with the HuggingFace library and focus a little more on understanding what is going on, and how we can use these models to improve on techniques we saw yesterday and last week. To that end, let's consider a task we've seen before - sentiment classification. "
   ]
  },
  {
   "cell_type": "markdown",
   "id": "c147b37a",
   "metadata": {},
   "source": [
    "### The Data"
   ]
  },
  {
   "cell_type": "markdown",
   "id": "7a62cd68",
   "metadata": {},
   "source": [
    "To get started, we're going to load up this [csv](https://wagon-public-datasets.s3.amazonaws.com/imdb.csv) of 8000 IMDB reviews that we're going to be using throughout this exercise."
   ]
  },
  {
   "cell_type": "markdown",
   "id": "4cf32349",
   "metadata": {},
   "source": [
    "Once you've loaded it up, check what kind of data we're dealing with and take some time to look through some of the examples in the DataFrame. "
   ]
  },
  {
   "cell_type": "code",
   "execution_count": 17,
   "id": "fb965b3d",
   "metadata": {},
   "outputs": [
    {
     "data": {
      "text/html": [
       "<div>\n",
       "<style scoped>\n",
       "    .dataframe tbody tr th:only-of-type {\n",
       "        vertical-align: middle;\n",
       "    }\n",
       "\n",
       "    .dataframe tbody tr th {\n",
       "        vertical-align: top;\n",
       "    }\n",
       "\n",
       "    .dataframe thead th {\n",
       "        text-align: right;\n",
       "    }\n",
       "</style>\n",
       "<table border=\"1\" class=\"dataframe\">\n",
       "  <thead>\n",
       "    <tr style=\"text-align: right;\">\n",
       "      <th></th>\n",
       "      <th>text</th>\n",
       "      <th>label</th>\n",
       "    </tr>\n",
       "  </thead>\n",
       "  <tbody>\n",
       "    <tr>\n",
       "      <th>0</th>\n",
       "      <td>Ouch! They don't come much worse than this hor...</td>\n",
       "      <td>0</td>\n",
       "    </tr>\n",
       "    <tr>\n",
       "      <th>1</th>\n",
       "      <td>Great little thriller. I was expecting some ty...</td>\n",
       "      <td>1</td>\n",
       "    </tr>\n",
       "    <tr>\n",
       "      <th>2</th>\n",
       "      <td>In this extremely low-budget ( I've seen home ...</td>\n",
       "      <td>0</td>\n",
       "    </tr>\n",
       "    <tr>\n",
       "      <th>3</th>\n",
       "      <td>I wouldn't say this is a *bad* movie. Unfortun...</td>\n",
       "      <td>0</td>\n",
       "    </tr>\n",
       "    <tr>\n",
       "      <th>4</th>\n",
       "      <td>What were they thinking at \"Cannes\"? One of th...</td>\n",
       "      <td>0</td>\n",
       "    </tr>\n",
       "  </tbody>\n",
       "</table>\n",
       "</div>"
      ],
      "text/plain": [
       "                                                text  label\n",
       "0  Ouch! They don't come much worse than this hor...      0\n",
       "1  Great little thriller. I was expecting some ty...      1\n",
       "2  In this extremely low-budget ( I've seen home ...      0\n",
       "3  I wouldn't say this is a *bad* movie. Unfortun...      0\n",
       "4  What were they thinking at \"Cannes\"? One of th...      0"
      ]
     },
     "execution_count": 17,
     "metadata": {},
     "output_type": "execute_result"
    }
   ],
   "source": [
    "import pandas as pd \n",
    "\n",
    "data = pd.read_csv('imdb.csv')\n",
    "data.head()"
   ]
  },
  {
   "cell_type": "markdown",
   "id": "63c2b269",
   "metadata": {},
   "source": [
    "Plot a histogram of the lengths of each reviews so we can get a sense of how they are distributed"
   ]
  },
  {
   "cell_type": "code",
   "execution_count": 18,
   "id": "644d1f63",
   "metadata": {},
   "outputs": [],
   "source": [
    "data['text_length'] = data['text'].str.split().apply(len)"
   ]
  },
  {
   "cell_type": "code",
   "execution_count": 19,
   "id": "cf6ad0d2",
   "metadata": {},
   "outputs": [
    {
     "data": {
      "text/html": [
       "<div>\n",
       "<style scoped>\n",
       "    .dataframe tbody tr th:only-of-type {\n",
       "        vertical-align: middle;\n",
       "    }\n",
       "\n",
       "    .dataframe tbody tr th {\n",
       "        vertical-align: top;\n",
       "    }\n",
       "\n",
       "    .dataframe thead th {\n",
       "        text-align: right;\n",
       "    }\n",
       "</style>\n",
       "<table border=\"1\" class=\"dataframe\">\n",
       "  <thead>\n",
       "    <tr style=\"text-align: right;\">\n",
       "      <th></th>\n",
       "      <th>text</th>\n",
       "      <th>label</th>\n",
       "      <th>text_length</th>\n",
       "    </tr>\n",
       "  </thead>\n",
       "  <tbody>\n",
       "    <tr>\n",
       "      <th>0</th>\n",
       "      <td>Ouch! They don't come much worse than this hor...</td>\n",
       "      <td>0</td>\n",
       "      <td>142</td>\n",
       "    </tr>\n",
       "    <tr>\n",
       "      <th>1</th>\n",
       "      <td>Great little thriller. I was expecting some ty...</td>\n",
       "      <td>1</td>\n",
       "      <td>388</td>\n",
       "    </tr>\n",
       "    <tr>\n",
       "      <th>2</th>\n",
       "      <td>In this extremely low-budget ( I've seen home ...</td>\n",
       "      <td>0</td>\n",
       "      <td>122</td>\n",
       "    </tr>\n",
       "    <tr>\n",
       "      <th>3</th>\n",
       "      <td>I wouldn't say this is a *bad* movie. Unfortun...</td>\n",
       "      <td>0</td>\n",
       "      <td>76</td>\n",
       "    </tr>\n",
       "    <tr>\n",
       "      <th>4</th>\n",
       "      <td>What were they thinking at \"Cannes\"? One of th...</td>\n",
       "      <td>0</td>\n",
       "      <td>134</td>\n",
       "    </tr>\n",
       "  </tbody>\n",
       "</table>\n",
       "</div>"
      ],
      "text/plain": [
       "                                                text  label  text_length\n",
       "0  Ouch! They don't come much worse than this hor...      0          142\n",
       "1  Great little thriller. I was expecting some ty...      1          388\n",
       "2  In this extremely low-budget ( I've seen home ...      0          122\n",
       "3  I wouldn't say this is a *bad* movie. Unfortun...      0           76\n",
       "4  What were they thinking at \"Cannes\"? One of th...      0          134"
      ]
     },
     "execution_count": 19,
     "metadata": {},
     "output_type": "execute_result"
    }
   ],
   "source": [
    "data.head()"
   ]
  },
  {
   "cell_type": "code",
   "execution_count": 20,
   "id": "279d1176",
   "metadata": {},
   "outputs": [
    {
     "data": {
      "text/plain": [
       "<AxesSubplot:xlabel='text_length', ylabel='Count'>"
      ]
     },
     "execution_count": 20,
     "metadata": {},
     "output_type": "execute_result"
    },
    {
     "data": {
      "image/png": "[encoded data removed]",
      "text/plain": [
       "<Figure size 640x480 with 1 Axes>"
      ]
     },
     "metadata": {},
     "output_type": "display_data"
    }
   ],
   "source": [
    "import seaborn as sns\n",
    "sns.histplot(data=data, x='text_length', bins=50)"
   ]
  },
  {
   "cell_type": "markdown",
   "id": "6cdb644e",
   "metadata": {},
   "source": [
    "So - we have a lot of reviews - most around the 150-250 word length - and those reviews have a lot of messy punctiation. We could spend a very long time going through and tidying up our text, but the HuggingFace library provides us with `AutoTokenizers` that allow us to quickly and easily convert our text to tokens."
   ]
  },
  {
   "cell_type": "markdown",
   "id": "5a0833da",
   "metadata": {},
   "source": [
    "Throughout this notebook, we're going to be working with the `bert-tiny` model from HuggingFace as it's nice and small which means we won't be waiting around for hours for trainings to finish! Why mention this here? Well because it's really important that our __Tokenizer__ and our __model__ align! \n",
    "\n",
    "If we want to leverage pre-training, we need to convert our words to tokens and then pass them through the model in a way that our model has seen before. See the diagrams below to see why we need them to match. "
   ]
  },
  {
   "cell_type": "markdown",
   "id": "bacfe31c",
   "metadata": {},
   "source": [
    "<img src = \"https://wagon-public-datasets.s3.amazonaws.com/data-science-images/lectures/Transformers/tok_emb.png\" width = 550px>"
   ]
  },
  {
   "cell_type": "markdown",
   "id": "9700068d",
   "metadata": {},
   "source": [
    "<img src = \"https://wagon-public-datasets.s3.amazonaws.com/data-science-images/lectures/Transformers/tok_emb_bad.png\" width = 550px>"
   ]
  },
  {
   "cell_type": "markdown",
   "id": "4cad16cf",
   "metadata": {},
   "source": [
    "With that said, instantiate an `AutoTokenizer.from_pretrained()` from HuggingFace that corresponds to the `prajjwal1/bert-tiny` model. \n",
    "\n",
    "With HuggingFace, when we load in a tokenizer, if we want to pad to the left or right, we have to mention this when we load it. With BERT, we want our padding to be to the \"right\" (a.k.a. post-padding) so make sure you pass this key-word argument when you load your model (see the [docs](https://huggingface.co/docs/transformers/v4.33.0/en/model_doc/auto#transformers.AutoTokenizer.from_pretrained.example) for clues on this). Once you've got your tokenizer, use it to produce tokens for this example sentence: \n",
    "\n",
    "\"My tokenizers and model must match\""
   ]
  },
  {
   "cell_type": "code",
   "execution_count": 15,
   "id": "10a26cb6",
   "metadata": {},
   "outputs": [
    {
     "data": {
      "application/vnd.jupyter.widget-view+json": {
       "model_id": "21cbef64e3ab448d8e5e71d6ea0011b9",
       "version_major": 2,
       "version_minor": 0
      },
      "text/plain": [
       "config.json:   0%|          | 0.00/285 [00:00<?, ?B/s]"
      ]
     },
     "metadata": {},
     "output_type": "display_data"
    },
    {
     "data": {
      "application/vnd.jupyter.widget-view+json": {
       "model_id": "84dfad98983148c6a75ceee0b1bc887a",
       "version_major": 2,
       "version_minor": 0
      },
      "text/plain": [
       "pytorch_model.bin:   0%|          | 0.00/17.8M [00:00<?, ?B/s]"
      ]
     },
     "metadata": {},
     "output_type": "display_data"
    }
   ],
   "source": [
    "# Load model directly\n",
    "from transformers import AutoModel\n",
    "model = AutoModel.from_pretrained(\"prajjwal1/bert-tiny\")"
   ]
  },
  {
   "cell_type": "code",
   "execution_count": 16,
   "id": "07dffac5",
   "metadata": {},
   "outputs": [
    {
     "ename": "ImportError",
     "evalue": "cannot import name 'AutoModeForSequenceClassification' from 'transformers' (/Users/janduplessis/.pyenv/versions/3.10.6/envs/lewagon/lib/python3.10/site-packages/transformers/__init__.py)",
     "output_type": "error",
     "traceback": [
      "\u001b[0;31m---------------------------------------------------------------------------\u001b[0m",
      "\u001b[0;31mImportError\u001b[0m                               Traceback (most recent call last)",
      "Cell \u001b[0;32mIn [16], line 2\u001b[0m\n\u001b[1;32m      1\u001b[0m \u001b[38;5;28;01mfrom\u001b[39;00m \u001b[38;5;21;01mtransformers\u001b[39;00m \u001b[38;5;28;01mimport\u001b[39;00m AutoModel \u001b[38;5;66;03m# For BERTs\u001b[39;00m\n\u001b[0;32m----> 2\u001b[0m \u001b[38;5;28;01mfrom\u001b[39;00m \u001b[38;5;21;01mtransformers\u001b[39;00m \u001b[38;5;28;01mimport\u001b[39;00m AutoModeForSequenceClassification \u001b[38;5;66;03m# For models fine-tuned on MNLI\u001b[39;00m\n\u001b[1;32m      3\u001b[0m \u001b[38;5;28;01mfrom\u001b[39;00m \u001b[38;5;21;01mtransformers\u001b[39;00m \u001b[38;5;28;01mimport\u001b[39;00m AutoTokenizer\n\u001b[1;32m      5\u001b[0m tokenizer \u001b[38;5;241m=\u001b[39m AutoTokenizer\u001b[38;5;241m.\u001b[39mfrom_pretrained(\u001b[38;5;124m\"\u001b[39m\u001b[38;5;124mprajjwal1/bert-tiny\u001b[39m\u001b[38;5;124m\"\u001b[39m) \u001b[38;5;66;03m# v1 and v2\u001b[39;00m\n",
      "\u001b[0;31mImportError\u001b[0m: cannot import name 'AutoModeForSequenceClassification' from 'transformers' (/Users/janduplessis/.pyenv/versions/3.10.6/envs/lewagon/lib/python3.10/site-packages/transformers/__init__.py)"
     ]
    }
   ],
   "source": [
    "from transformers import AutoModel # For BERTs\n",
    "from transformers import AutoModeForSequenceClassification # For models fine-tuned on MNLI\n",
    "from transformers import AutoTokenizer\n",
    "\n",
    "tokenizer = AutoTokenizer.from_pretrained(\"prajjwal1/bert-tiny\") # v1 and v2\n",
    "model = AutoModelForSequenceClassification.from_pretrained(\"prajjwal1/bert-tiny\") # v1 and v2"
   ]
  },
  {
   "cell_type": "markdown",
   "id": "be11a672",
   "metadata": {},
   "source": [
    "To make the point about tokenizers and models needing to fit, run the cell below and see what tokens you get for exactly the same sentence."
   ]
  },
  {
   "cell_type": "code",
   "execution_count": null,
   "id": "3e3be12a",
   "metadata": {},
   "outputs": [],
   "source": [
    "llama_tokenizer = AutoTokenizer.from_pretrained(\"TheBloke/llama-2-70b-Guanaco-QLoRA-fp16\")\n",
    "\n",
    "llama_tokenizer(\"My tokenizers and model must match\")\n"
   ]
  },
  {
   "cell_type": "markdown",
   "id": "2bef170e",
   "metadata": {},
   "source": [
    "We see we get out totally different numbers for the `input_ids`!"
   ]
  },
  {
   "cell_type": "markdown",
   "id": "0f8bc800",
   "metadata": {},
   "source": [
    "Another thing you'll notice about __both__ tokenizers is that we get our more tokens than we put in. \n",
    "\n",
    "### Why? \n",
    "\n",
    "The BERT tokenizer (and many other tokenizers) breaks down input text into smaller units called subwords using \"WordPiece\" tokenization, enabling the model to handle complex words and capture meaningful subword representations. Loop through your BERT tokens and call the `.decode()` function on them one by one to see how it has broken up the original sentence."
   ]
  },
  {
   "cell_type": "code",
   "execution_count": null,
   "id": "bba39cb5",
   "metadata": {},
   "outputs": [],
   "source": [
    "pass  # YOUR CODE HERE"
   ]
  },
  {
   "cell_type": "markdown",
   "id": "438aea60",
   "metadata": {},
   "source": [
    "The tokenizer uses a predefined vocabulary of subwords, assigning each a unique token ID. It also introduces special tokens like `[CLS]` (shows up as 101) and `[SEP]` (shows up as 102) to mark the beginning and separation of sentences for the model. The tokenizer can also handle padding or truncation (cutting up our sentences for us!) so they're a vital part of our pipeline. You'll also see you get out some other keys in this dictionary - `token_type_ids` and `attention_mask` - but we won't worry about them too much for right now!"
   ]
  },
  {
   "cell_type": "markdown",
   "id": "a41f3018",
   "metadata": {},
   "source": [
    "So now that we have our sentences and our Tokenizer, let's try converting the first sentence in our `df` into tokens."
   ]
  },
  {
   "cell_type": "code",
   "execution_count": null,
   "id": "f8b6bf97",
   "metadata": {},
   "outputs": [],
   "source": [
    "pass  # YOUR CODE HERE"
   ]
  },
  {
   "cell_type": "markdown",
   "id": "47e643b1",
   "metadata": {},
   "source": [
    "### So how can we use a BERT model?"
   ]
  },
  {
   "cell_type": "markdown",
   "id": "749617c0",
   "metadata": {},
   "source": [
    "Now that we've explored tokenization, we need to think about how we go from our tokens to somehow getting out a classification of \"positive\" or \"negative\" and to do that we need to talk about BERT. If you're looking for a great 10-minute explainer on BERT, you can't go wrong with [Jay Alammar's article](https://jalammar.github.io/illustrated-bert/). The high level view is essentially this, though:\n",
    "\n",
    "BERT gets trained via \"semi-supervised\" learning to predict the missing word in a sentence, looking both to its left and right as its context (hence it is named a \"bidirectional\" encoder). This means that it can see everything on either side of the masked word below.\n",
    "\n",
    "<img src = \"https://wagon-public-datasets.s3.amazonaws.com/data-science-images/lectures/Transformers/bert_workings.png\" width = 350px>\n",
    "\n"
   ]
  },
  {
   "cell_type": "markdown",
   "id": "2a6ddf6c",
   "metadata": {},
   "source": [
    "Over time, BERT gets great at filling in the blank - in this case it learns that the word \"over\" should go here! Let's take a look at some architectures: \n",
    "\n",
    "<img src = https://wagon-public-datasets.s3.amazonaws.com/data-science-images/lectures/Transformers/13789bert_architecture.png width = 500px>\n",
    "\n",
    "It's literally just an encoder (or the left side of the model we covered in the lecture! GPT is the right side of the model). During training, they add a few Feed Forward layers and a Softmax layer to make the model try to predict the most likely word blanked out:\n",
    "\n",
    "\n",
    "<img src = https://wagon-public-datasets.s3.amazonaws.com/data-science-images/lectures/Transformers/transformers_enc_de_bert.png width = 600px>\n",
    "\n",
    "\n",
    "__\"But why does all of this matter? We're not trying to predict a next word here!\", you ask!__ Well, because through learning to fill in the blanks millions of times on large datasets, BERT gets a __really__ good understanding of what words mean and how sentences fit together and produces __fantastic, context-aware__ embeddings. \n",
    "\n",
    "\n",
    "\n",
    "<img src = https://wagon-public-datasets.s3.amazonaws.com/data-science-images/lectures/Transformers/bert_good_embeddings_2.png width = 400px>\n",
    "\n",
    "This is when BERT can become valuable to us - once it's been pre-trained - since we can now take those embedding and use them as __features__ for other tasks."
   ]
  },
  {
   "cell_type": "markdown",
   "id": "f31ced9f",
   "metadata": {},
   "source": [
    "So - now that you understand our goal - let's see how BERT works in practice."
   ]
  },
  {
   "cell_type": "markdown",
   "id": "c4980015",
   "metadata": {},
   "source": [
    "### Using BERT"
   ]
  },
  {
   "cell_type": "markdown",
   "id": "3d506a57",
   "metadata": {},
   "source": [
    "Use [`TFAutoModel`](https://huggingface.co/transformers/v3.0.2/model_doc/auto.html#tfautomodel) to load up a `tiny-bert` model. \n",
    "\n",
    "N.B. HuggingFace lets us load models that were coded in other Deep Learning libraries (like PyTorch), but if we want to use them like we would use a normal TF model, we can pass `from_pt = True`. "
   ]
  },
  {
   "cell_type": "code",
   "execution_count": null,
   "id": "b33532a0",
   "metadata": {},
   "outputs": [],
   "source": [
    "pass  # YOUR CODE HERE"
   ]
  },
  {
   "cell_type": "markdown",
   "id": "c471c113",
   "metadata": {},
   "source": [
    "How many parameters do we have in our model? Try using the `model.num_parameters()` method to find out!"
   ]
  },
  {
   "cell_type": "code",
   "execution_count": null,
   "id": "8d240e6b",
   "metadata": {},
   "outputs": [],
   "source": [
    "pass  # YOUR CODE HERE"
   ]
  },
  {
   "cell_type": "markdown",
   "id": "39aec20f",
   "metadata": {},
   "source": [
    "To actually get anything out of our model, we need to pass it tensors because that is what it's expecting. With that in mind, let's try using our tokenizer again to create some tensors! Pass the example sentence from above (\"My tokenizers and model must match\") through your tokenizer again, only this time we're going to add a keyword argument:\n",
    "\n",
    "`return_tensors` should be set to `\"tf\"` <br>\n",
    "\n",
    "\n"
   ]
  },
  {
   "cell_type": "code",
   "execution_count": null,
   "id": "69ee555a",
   "metadata": {},
   "outputs": [],
   "source": [
    "pass  # YOUR CODE HERE"
   ]
  },
  {
   "cell_type": "markdown",
   "id": "988cc659",
   "metadata": {},
   "source": [
    "What do you get out? Check the `type` of the object and look inside it. You can even try casting it to a dictionary"
   ]
  },
  {
   "cell_type": "markdown",
   "id": "c445c117",
   "metadata": {},
   "source": [
    "We're now going to pass these into our `model`. Pass your `input_ids` into `model.predict()` method to see what embeddings the model predicts from your input tensor!\n"
   ]
  },
  {
   "cell_type": "code",
   "execution_count": null,
   "id": "78d19f3c",
   "metadata": {},
   "outputs": [],
   "source": [
    "pass  # YOUR CODE HERE"
   ]
  },
  {
   "cell_type": "code",
   "execution_count": null,
   "id": "42c2f6dd",
   "metadata": {},
   "outputs": [],
   "source": [
    "input_tensor.shape"
   ]
  },
  {
   "cell_type": "markdown",
   "id": "64148fa5",
   "metadata": {},
   "source": [
    "The part we care about most is the `last_hidden_state` array from our prediction. This contains all of our embeddings from the final layer of the BERT model. What is its shape? What does each aspect of the shape signify?"
   ]
  },
  {
   "cell_type": "code",
   "execution_count": null,
   "id": "f3d4a821",
   "metadata": {},
   "outputs": [],
   "source": [
    "pass  # YOUR CODE HERE"
   ]
  },
  {
   "cell_type": "markdown",
   "id": "fdfa450f",
   "metadata": {},
   "source": [
    "You should have a shape of __(1, 10, 128)__. Why? \n",
    "\n",
    "The batch size is 1.\n",
    "We have 10 tokens. \n",
    "Each token has a 128-long embeddings since Tiny Bert has a \"hidden size\" of 128 which means it'll create embeddings of that size."
   ]
  },
  {
   "cell_type": "markdown",
   "id": "5a62a3de",
   "metadata": {},
   "source": [
    "Run the cell below to load up `bert-small` instead of `tiny-bert` and check the model description you see listed on HuggingFace. You should see a different \"hidden_dimension\" size reflected in the embeddings you get out when you `.predict()` on the same sentence."
   ]
  },
  {
   "cell_type": "code",
   "execution_count": null,
   "id": "b726fb19",
   "metadata": {},
   "outputs": [],
   "source": [
    "small_model = TFAutoModel.from_pretrained(\"prajjwal1/bert-small\", from_pt = True)\n",
    "small_model.predict(input_tensor).last_hidden_state.shape"
   ]
  },
  {
   "cell_type": "markdown",
   "id": "fa4caafb",
   "metadata": {},
   "source": [
    "When we're using our embeddings as a feature, we usually don't need to take out all 10 tokens out - we usually just take the first token (the `[CLS]` token that gets inserted for us) out instead - this should contain most of the information from our full sentence. With that in mind, select just the final token from your `bert_tiny` embeddings. It should have shape (1, 128)"
   ]
  },
  {
   "cell_type": "code",
   "execution_count": null,
   "id": "f43e6553",
   "metadata": {},
   "outputs": [],
   "source": [
    "pass  # YOUR CODE HERE"
   ]
  },
  {
   "cell_type": "markdown",
   "id": "e90376fd",
   "metadata": {},
   "source": [
    "### Tokenizing all our sentences"
   ]
  },
  {
   "cell_type": "markdown",
   "id": "8560e375",
   "metadata": {},
   "source": [
    "We want to tokenize all of the cells in our \"text\" column at once. Before we do though, we need to think about padding. Because we're using subwork tokenization, we can't simply pad/ truncate our words when they are written out in full text. For example:\n",
    "\n",
    "\"Transformer models do a lot of good things\"\n",
    "\n",
    "\"Although indubitably complex, Transformers outperform countless other models\"\n",
    "\n",
    "Both of these sentence are 8 words long. But when we use subword tokenization, the second one will be split into more tokens, since it contains much longer words."
   ]
  },
  {
   "cell_type": "markdown",
   "id": "b9401d74",
   "metadata": {},
   "source": [
    "Check the length of both of these sentences tokenized to provide this to yourself."
   ]
  },
  {
   "cell_type": "code",
   "execution_count": null,
   "id": "5b800d49",
   "metadata": {},
   "outputs": [],
   "source": [
    "sent1_toks = tokenizer(\"Transformer models do a lot of good things\")\n",
    "\n",
    "sent2_toks = tokenizer(\"Although indubitably complex, Transformers outperform countless other models\")\n",
    "\n",
    "print(len(sent1_toks[\"input_ids\"]))\n",
    "print(len(sent2_toks[\"input_ids\"]))\n"
   ]
  },
  {
   "cell_type": "markdown",
   "id": "346e8967",
   "metadata": {},
   "source": [
    "We want to see how long our tokenized sentences will all be, then we can make a decision about how we should pad/ truncate our sentences."
   ]
  },
  {
   "cell_type": "markdown",
   "id": "320000c0",
   "metadata": {},
   "source": [
    "We'll need to go through each sentence in our DataFrame and see how long it is when tokenized (we can do this by mapping/ applying a function on our DataFrame that tokenizes our sentences). Then we can simply do a quick histogram to see what our varying lengths look like."
   ]
  },
  {
   "cell_type": "code",
   "execution_count": null,
   "id": "8460e8fc",
   "metadata": {},
   "outputs": [],
   "source": [
    "df[\"tokenized\"] = df[\"text\"].map(lambda x: tokenizer(x)[\"input_ids\"])\n",
    "\n",
    "df[\"len_tokenized\"] = df[\"tokenized\"].map(lambda x: len(x))\n",
    "\n",
    "df[\"len_tokenized\"].hist()"
   ]
  },
  {
   "cell_type": "markdown",
   "id": "c5dc1f27",
   "metadata": {},
   "source": [
    "Looking at our histogram, 500 seems like a reasonable choice."
   ]
  },
  {
   "cell_type": "markdown",
   "id": "9bbd7b73",
   "metadata": {},
   "source": [
    "Let's go ahead and tokenize our column - specify your `\"max_length\"` as 500 and make sure you enable padding as you call your tokenizer. To get this to work properly, you'll also need to set a value of `True` for the `truncation` arguments and you'll need to make sure you set `padding` equal to `\"max_length\"`. To ensure the model gets the right kind of input, you will have to add `.tolist()` when you pass your column into your tokenizer."
   ]
  },
  {
   "cell_type": "code",
   "execution_count": null,
   "id": "34c7f889",
   "metadata": {},
   "outputs": [],
   "source": [
    "pass  # YOUR CODE HERE"
   ]
  },
  {
   "cell_type": "markdown",
   "id": "738b9035",
   "metadata": {},
   "source": [
    "What do we get out? What shape do its components have?\n"
   ]
  },
  {
   "cell_type": "code",
   "execution_count": null,
   "id": "6da52fa5",
   "metadata": {},
   "outputs": [],
   "source": [
    "pass  # YOUR CODE HERE"
   ]
  },
  {
   "cell_type": "markdown",
   "id": "7dbb8119",
   "metadata": {},
   "source": [
    "Again, we're just interested in our `input_ids` for now (we won't worry about the attention mask). So grab those and use `model.predict()` to see what embeddings we get out for all of our tokenized sentences."
   ]
  },
  {
   "cell_type": "code",
   "execution_count": null,
   "id": "6d9a4144",
   "metadata": {},
   "outputs": [],
   "source": [
    "pass  # YOUR CODE HERE"
   ]
  },
  {
   "cell_type": "markdown",
   "id": "2adb31aa",
   "metadata": {},
   "source": [
    "### Reducing our data"
   ]
  },
  {
   "cell_type": "markdown",
   "id": "40e4e888",
   "metadata": {},
   "source": [
    "We finally have all of our sentence embeddings - 128 numbers to express each of our words in their context. This might be quite a lot of data for a model to process (especially if we were to scale up) so we'll simply take the embedding corresponding to the `[CLS]` token (i.e. the first token of your sequence). \n",
    "\n",
    "\n",
    "<img src = \"https://wagon-public-datasets.s3.amazonaws.com/data-science-images/lectures/Transformers/CLS_token_explanation.png\"> Select this column from your `last_hidden_state` and assign it to `X` since this is what we're going to use in our Classification Neural Network. "
   ]
  },
  {
   "cell_type": "code",
   "execution_count": null,
   "id": "c9a3b1c8",
   "metadata": {},
   "outputs": [],
   "source": [
    "pass  # YOUR CODE HERE"
   ]
  },
  {
   "cell_type": "markdown",
   "id": "9c04b4b0",
   "metadata": {},
   "source": [
    "Now, create a train-test split, and train a simple Dense Network to classify between positive and negative reviews. Train it, then evaluate your model on the test set. What kind of accuracy do you get?"
   ]
  },
  {
   "cell_type": "code",
   "execution_count": null,
   "id": "0e8171a1",
   "metadata": {},
   "outputs": [],
   "source": [
    "pass  # YOUR CODE HERE"
   ]
  },
  {
   "cell_type": "markdown",
   "id": "3a9d7f74",
   "metadata": {},
   "source": [
    "Looks like we get around 70% which isn't too bad, but could we do any better?"
   ]
  },
  {
   "cell_type": "markdown",
   "id": "25abbe6c",
   "metadata": {},
   "source": [
    "### Fine tuning a BERT model for our task"
   ]
  },
  {
   "cell_type": "markdown",
   "id": "7451c01f",
   "metadata": {},
   "source": [
    "In the first part of our exercise, we've just been passing our data through a pre-trained BERT model. That means that we've just been using the weights that were achieved by training the model on its training dataset, but the interpretation that the BERT model might have for each word could be different - consider the following words:\n",
    "\n",
    "\"The direction was completely unique\"\n",
    "\n",
    "This sentence might mean very different things (and thus give different embeddings) to a model that has been trained on text about the weather (e.g. the model might interpret this as something to do with the \"direction\" of the wind or an ocean current). But means something completely different when it comes to talking about the \"direction\" of a film director. We're dealing with a dataset about movies and that may contain a lot of words and concepts that are very unfamiliar to our regular BERT model.\n",
    "\n",
    "So we have a problem! The embeddings that we're getting out may not be suited too well to our task so we're limited in how well our model can interpret our words since we we're stuck with potentially unhelpful embeddings.\n",
    "\n",
    "But what if we could let the model learn as it goes? What if we could take those existing, excellent weights and change them __slightly__ so that they perform perfectly for our task at hand?\n",
    "\n"
   ]
  },
  {
   "cell_type": "markdown",
   "id": "6f70e109",
   "metadata": {},
   "source": [
    "\n",
    "\n",
    "<img src = \"https://wagon-public-datasets.s3.amazonaws.com/data-science-images/lectures/Transformers/bert_weight_updating_2.png\">\n",
    "\n",
    "This is exactly what __fine-tuning__ is and HuggingFace makes it really easy 😇\n",
    "\n",
    "Create another `tiny-bert` model, loading it up with [`TFAutoModelForSequenceClassification`](https://huggingface.co/transformers/v3.0.2/model_doc/auto.html#tfautomodelforsequenceclassification) this time instead. "
   ]
  },
  {
   "cell_type": "code",
   "execution_count": null,
   "id": "7b291ebb",
   "metadata": {},
   "outputs": [],
   "source": [
    "pass  # YOUR CODE HERE"
   ]
  },
  {
   "cell_type": "markdown",
   "id": "b54e51b8",
   "metadata": {},
   "source": [
    "All we need to do is pass in our tensors that represent out tokenized sentences that we created earlier. We can split off 20% of our data for our test. Then pass our tensors of tokens and our labels straight into our model."
   ]
  },
  {
   "cell_type": "code",
   "execution_count": null,
   "id": "d3d5c961",
   "metadata": {},
   "outputs": [],
   "source": [
    "pass  # YOUR CODE HERE"
   ]
  },
  {
   "cell_type": "markdown",
   "id": "0cc307ef",
   "metadata": {},
   "source": [
    "Set a very low number of epochs for your training such as 3 or 5 - why? Well now we're updating over __4 million weights at once__ which takes a lot of time and computational power. 😮‍💨 Much more than the small Dense network we put on top of our X and y in the first half of the exercise. We should see good results after only a few epochs, though! \n",
    "\n",
    "\n",
    "While you wait for training to finish, you can take the time to dig a little deeper into [BERT's architecture](https://jalammar.github.io/illustrated-bert/). \n"
   ]
  },
  {
   "cell_type": "code",
   "execution_count": null,
   "id": "c83065ad",
   "metadata": {},
   "outputs": [],
   "source": [
    "pass  # YOUR CODE HERE"
   ]
  },
  {
   "cell_type": "markdown",
   "id": "4f154683",
   "metadata": {},
   "source": [
    "Once your model has trained for a few epochs, try increasing your learning rate by switching your optimizer. Simply instantiate an instance of the Adam class from `tf.keras.optimizers` and try increasing it from the default. \n",
    "\n",
    "When we're working with such enormous models, updating weights can take a very long time but increasing our learning rate should yield better results much faster. "
   ]
  },
  {
   "cell_type": "code",
   "execution_count": null,
   "id": "821c2419",
   "metadata": {},
   "outputs": [],
   "source": [
    "pass  # YOUR CODE HERE"
   ]
  },
  {
   "cell_type": "markdown",
   "id": "3573594c",
   "metadata": {},
   "source": [
    "Evaluate your results on your test set! You should see that when we take the tune a model __specifically__ for our task, we get better results even after just 3-4 epochs of training."
   ]
  },
  {
   "cell_type": "markdown",
   "id": "8aa88182",
   "metadata": {},
   "source": [
    "Congratulations! You've just fine-tuned your own LLM 🎉🎉🎉\n",
    "\n",
    "### Some important notes:\n",
    "\n",
    "- We're getting good results with this model but this is a *tiny* version of BERT. If we increased the size of our model and if we used our full dataset (rather than just 5000 samples), we might get even better results. \n",
    "\n",
    "- One downside of fine-tuning (as you have seen) is that it can take a LOT of computational power to carry out. Imagine how much more it might take if we didn't start off with our transfer-learned weights.\n",
    "\n",
    "- Because of that, in can be important to consider other options first - if you'd like, try training a regular ML Tfidf model and you may be surprised how good the results are. When we're dealing with tasks like classification, __ML will often do a pretty good job with much less compute!__\n",
    "\n",
    "- That said, there are a __very wide__ range of use cases for BERT-style models - we've only done classification here! Look around HuggingFace and you'll see all sorts of fine-tuned BERTs for specific domains (e.g. Finance, medicine or Twitter) and different tasks (some that ML can't help us with)\n",
    "\n",
    "- Each BERT model can be fine-tuned as long as you take the proper time to structure your data correctly (especially using Data Loaders like the Tensorflow Dataset if your data is very large). \n",
    "\n",
    "Now that you've seen what can be done with an encoder-style model, it's time to see what a decoder-style model looks like 🚀"
   ]
  },
  {
   "cell_type": "code",
   "execution_count": null,
   "id": "49765501",
   "metadata": {},
   "outputs": [],
   "source": []
  }
 ],
 "metadata": {
  "hide_input": false,
  "kernelspec": {
   "display_name": "Python 3 (ipykernel)",
   "language": "python",
   "name": "python3"
  },
  "language_info": {
   "codemirror_mode": {
    "name": "ipython",
    "version": 3
   },
   "file_extension": ".py",
   "mimetype": "text/x-python",
   "name": "python",
   "nbconvert_exporter": "python",
   "pygments_lexer": "ipython3",
   "version": "3.10.6"
  },
  "toc": {
   "base_numbering": 1,
   "nav_menu": {},
   "number_sections": true,
   "sideBar": true,
   "skip_h1_title": false,
   "title_cell": "Table of Contents",
   "title_sidebar": "Contents",
   "toc_cell": false,
   "toc_position": {},
   "toc_section_display": true,
   "toc_window_display": false
  }
 },
 "nbformat": 4,
 "nbformat_minor": 5
}
