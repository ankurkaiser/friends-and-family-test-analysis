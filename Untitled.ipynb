{
 "cells": [
  {
   "cell_type": "code",
   "execution_count": 6,
   "id": "31255c1a",
   "metadata": {},
   "outputs": [],
   "source": [
    "import pandas as pd"
   ]
  },
  {
   "cell_type": "code",
   "execution_count": 7,
   "id": "92537a9a",
   "metadata": {},
   "outputs": [],
   "source": [
    "data = pd.read_csv('friendsfamilytest/data/synthetic_data_for_setfit.csv')"
   ]
  },
  {
   "cell_type": "code",
   "execution_count": 8,
   "id": "80d27caa",
   "metadata": {},
   "outputs": [
    {
     "data": {
      "text/html": [
       "<div>\n",
       "<style scoped>\n",
       "    .dataframe tbody tr th:only-of-type {\n",
       "        vertical-align: middle;\n",
       "    }\n",
       "\n",
       "    .dataframe tbody tr th {\n",
       "        vertical-align: top;\n",
       "    }\n",
       "\n",
       "    .dataframe thead th {\n",
       "        text-align: right;\n",
       "    }\n",
       "</style>\n",
       "<table border=\"1\" class=\"dataframe\">\n",
       "  <thead>\n",
       "    <tr style=\"text-align: right;\">\n",
       "      <th></th>\n",
       "      <th>text</th>\n",
       "      <th>label</th>\n",
       "    </tr>\n",
       "  </thead>\n",
       "  <tbody>\n",
       "    <tr>\n",
       "      <th>0</th>\n",
       "      <td>\"Booking an appointment was a breeze with thei...</td>\n",
       "      <td>Appointment Accessibility</td>\n",
       "    </tr>\n",
       "    <tr>\n",
       "      <th>1</th>\n",
       "      <td>\"Struggled to get an appointment. The online s...</td>\n",
       "      <td>Appointment Accessibility</td>\n",
       "    </tr>\n",
       "    <tr>\n",
       "      <th>2</th>\n",
       "      <td>\"Scheduling an appointment was straightforward...</td>\n",
       "      <td>Appointment Accessibility</td>\n",
       "    </tr>\n",
       "    <tr>\n",
       "      <th>3</th>\n",
       "      <td>\"Surprisingly smooth experience in booking my ...</td>\n",
       "      <td>Appointment Accessibility</td>\n",
       "    </tr>\n",
       "    <tr>\n",
       "      <th>4</th>\n",
       "      <td>\"Frustrating! The phone line was always busy, ...</td>\n",
       "      <td>Appointment Accessibility</td>\n",
       "    </tr>\n",
       "  </tbody>\n",
       "</table>\n",
       "</div>"
      ],
      "text/plain": [
       "                                                text  \\\n",
       "0  \"Booking an appointment was a breeze with thei...   \n",
       "1  \"Struggled to get an appointment. The online s...   \n",
       "2  \"Scheduling an appointment was straightforward...   \n",
       "3  \"Surprisingly smooth experience in booking my ...   \n",
       "4  \"Frustrating! The phone line was always busy, ...   \n",
       "\n",
       "                       label  \n",
       "0  Appointment Accessibility  \n",
       "1  Appointment Accessibility  \n",
       "2  Appointment Accessibility  \n",
       "3  Appointment Accessibility  \n",
       "4  Appointment Accessibility  "
      ]
     },
     "execution_count": 8,
     "metadata": {},
     "output_type": "execute_result"
    }
   ],
   "source": [
    "data.head()"
   ]
  },
  {
   "cell_type": "code",
   "execution_count": 9,
   "id": "9b64a4bf",
   "metadata": {},
   "outputs": [],
   "source": [
    "my_list = data['label'].unique()"
   ]
  },
  {
   "cell_type": "code",
   "execution_count": 12,
   "id": "3b29fed6",
   "metadata": {},
   "outputs": [
    {
     "data": {
      "text/plain": [
       "array(['Appointment Accessibility', 'Reception Staff Interaction',\n",
       "       'Medical Staff Competence', 'Patient-Doctor Communication',\n",
       "       'Follow-Up and Continuity of Care', 'Facilities and Cleanliness',\n",
       "       'Prescription and Medication Management', 'Referral Efficiency',\n",
       "       'Emergency Handling', 'Patient Privacy and Confidentiality',\n",
       "       'Telehealth Services', 'Patient Education and Resources',\n",
       "       'Waiting Room Comfort', 'Patient Empowerment and Support',\n",
       "       'Health Outcome Satisfaction', 'Cultural Sensitivity',\n",
       "       'Mental Health Support', 'Accessibility for Disabled Patients',\n",
       "       'Ambiance of Facility', 'Online Services & Digital Health',\n",
       "       'Patient Safety', 'Weekend Service Availability',\n",
       "       'Telephone Service', 'Overall Patient Satisfaction',\n",
       "       'Blood Test Results & Imaging', 'Patient Participation Group',\n",
       "       'Doctor Consultations', 'Home Visits', 'Cancer Screening',\n",
       "       'Vaccinations', 'Test Results'], dtype=object)"
      ]
     },
     "execution_count": 12,
     "metadata": {},
     "output_type": "execute_result"
    }
   ],
   "source": [
    "my_list"
   ]
  },
  {
   "cell_type": "code",
   "execution_count": null,
   "id": "7012e4cb",
   "metadata": {},
   "outputs": [],
   "source": []
  }
 ],
 "metadata": {
  "hide_input": false,
  "kernelspec": {
   "display_name": "Python 3 (ipykernel)",
   "language": "python",
   "name": "python3"
  },
  "language_info": {
   "codemirror_mode": {
    "name": "ipython",
    "version": 3
   },
   "file_extension": ".py",
   "mimetype": "text/x-python",
   "name": "python",
   "nbconvert_exporter": "python",
   "pygments_lexer": "ipython3",
   "version": "3.10.6"
  },
  "toc": {
   "base_numbering": 1,
   "nav_menu": {},
   "number_sections": true,
   "sideBar": true,
   "skip_h1_title": false,
   "title_cell": "Table of Contents",
   "title_sidebar": "Contents",
   "toc_cell": false,
   "toc_position": {},
   "toc_section_display": true,
   "toc_window_display": false
  }
 },
 "nbformat": 4,
 "nbformat_minor": 5
}
